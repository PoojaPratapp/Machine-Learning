{
  "nbformat": 4,
  "nbformat_minor": 0,
  "metadata": {
    "colab": {
      "provenance": [],
      "authorship_tag": "ABX9TyNSNpIM4ohzxXmQLaxIt7sP",
      "include_colab_link": true
    },
    "kernelspec": {
      "name": "python3",
      "display_name": "Python 3"
    },
    "language_info": {
      "name": "python"
    }
  },
  "cells": [
    {
      "cell_type": "markdown",
      "metadata": {
        "id": "view-in-github",
        "colab_type": "text"
      },
      "source": [
        "<a href=\"https://colab.research.google.com/github/PoojaPratapp/Machine-Learning/blob/main/Crack_Detection.ipynb\" target=\"_parent\"><img src=\"https://colab.research.google.com/assets/colab-badge.svg\" alt=\"Open In Colab\"/></a>"
      ]
    },
    {
      "cell_type": "code",
      "execution_count": 1,
      "metadata": {
        "colab": {
          "base_uri": "https://localhost:8080/"
        },
        "id": "7hpwy7Sij4NU",
        "outputId": "ede55edd-4326-453d-849c-fe319f563ec3"
      },
      "outputs": [
        {
          "output_type": "stream",
          "name": "stderr",
          "text": [
            "YOLOv5 🚀 v7.0-116-g5c91dae Python-3.8.10 torch-1.13.1+cu116 CPU\n"
          ]
        },
        {
          "output_type": "stream",
          "name": "stdout",
          "text": [
            "Setup complete ✅ (2 CPUs, 12.7 GB RAM, 25.6/107.7 GB disk)\n"
          ]
        }
      ],
      "source": [
        "!git clone https://github.com/ultralytics/yolov5  # clone\n",
        "%cd yolov5\n",
        "%pip install -qr requirements.txt  # install\n",
        "\n",
        "import torch\n",
        "import utils\n",
        "display = utils.notebook_init()  # checks"
      ]
    },
    {
      "cell_type": "code",
      "source": [
        "!unzip -q ../Dataset.zip -d ../"
      ],
      "metadata": {
        "id": "L8Av1J1HuW-k"
      },
      "execution_count": 2,
      "outputs": []
    },
    {
      "cell_type": "code",
      "source": [
        "# Train YOLOv5s on Dataset Cracks for 70 epochs\n",
        "!python train.py --img 640 --batch 16 --epochs 70 --data Data_Crack.yaml --weights yolov5s.pt --cache"
      ],
      "metadata": {
        "colab": {
          "base_uri": "https://localhost:8080/"
        },
        "id": "1BJUJax6wtHe",
        "outputId": "bb41ff03-febc-4bc4-d935-d7b3f85bb301"
      },
      "execution_count": 6,
      "outputs": [
        {
          "output_type": "stream",
          "name": "stdout",
          "text": [
            "\u001b[34m\u001b[1mtrain: \u001b[0mweights=yolov5s.pt, cfg=, data=Data_Crack.yaml, hyp=data/hyps/hyp.scratch-low.yaml, epochs=70, batch_size=16, imgsz=640, rect=False, resume=False, nosave=False, noval=False, noautoanchor=False, noplots=False, evolve=None, bucket=, cache=ram, image_weights=False, device=, multi_scale=False, single_cls=False, optimizer=SGD, sync_bn=False, workers=8, project=runs/train, name=exp, exist_ok=False, quad=False, cos_lr=False, label_smoothing=0.0, patience=100, freeze=[0], save_period=-1, seed=0, local_rank=-1, entity=None, upload_dataset=False, bbox_interval=-1, artifact_alias=latest\n",
            "\u001b[34m\u001b[1mgithub: \u001b[0mup to date with https://github.com/ultralytics/yolov5 ✅\n",
            "YOLOv5 🚀 v7.0-116-g5c91dae Python-3.8.10 torch-1.13.1+cu116 CPU\n",
            "\n",
            "\u001b[34m\u001b[1mhyperparameters: \u001b[0mlr0=0.01, lrf=0.01, momentum=0.937, weight_decay=0.0005, warmup_epochs=3.0, warmup_momentum=0.8, warmup_bias_lr=0.1, box=0.05, cls=0.5, cls_pw=1.0, obj=1.0, obj_pw=1.0, iou_t=0.2, anchor_t=4.0, fl_gamma=0.0, hsv_h=0.015, hsv_s=0.7, hsv_v=0.4, degrees=0.0, translate=0.1, scale=0.5, shear=0.0, perspective=0.0, flipud=0.0, fliplr=0.5, mosaic=1.0, mixup=0.0, copy_paste=0.0\n",
            "\u001b[34m\u001b[1mClearML: \u001b[0mrun 'pip install clearml' to automatically track, visualize and remotely train YOLOv5 🚀 in ClearML\n",
            "\u001b[34m\u001b[1mComet: \u001b[0mrun 'pip install comet_ml' to automatically track and visualize YOLOv5 🚀 runs in Comet\n",
            "\u001b[34m\u001b[1mTensorBoard: \u001b[0mStart with 'tensorboard --logdir runs/train', view at http://localhost:6006/\n",
            "2023-03-04 22:51:29.960335: I tensorflow/core/platform/cpu_feature_guard.cc:193] This TensorFlow binary is optimized with oneAPI Deep Neural Network Library (oneDNN) to use the following CPU instructions in performance-critical operations:  AVX2 FMA\n",
            "To enable them in other operations, rebuild TensorFlow with the appropriate compiler flags.\n",
            "2023-03-04 22:51:31.227732: W tensorflow/compiler/xla/stream_executor/platform/default/dso_loader.cc:64] Could not load dynamic library 'libnvinfer.so.7'; dlerror: libnvinfer.so.7: cannot open shared object file: No such file or directory; LD_LIBRARY_PATH: /usr/local/lib/python3.8/dist-packages/cv2/../../lib64:/usr/local/lib/python3.8/dist-packages/cv2/../../lib64:/usr/local/nvidia/lib:/usr/local/nvidia/lib64\n",
            "2023-03-04 22:51:31.227873: W tensorflow/compiler/xla/stream_executor/platform/default/dso_loader.cc:64] Could not load dynamic library 'libnvinfer_plugin.so.7'; dlerror: libnvinfer_plugin.so.7: cannot open shared object file: No such file or directory; LD_LIBRARY_PATH: /usr/local/lib/python3.8/dist-packages/cv2/../../lib64:/usr/local/lib/python3.8/dist-packages/cv2/../../lib64:/usr/local/nvidia/lib:/usr/local/nvidia/lib64\n",
            "2023-03-04 22:51:31.227894: W tensorflow/compiler/tf2tensorrt/utils/py_utils.cc:38] TF-TRT Warning: Cannot dlopen some TensorRT libraries. If you would like to use Nvidia GPU with TensorRT, please make sure the missing libraries mentioned above are installed properly.\n",
            "Traceback (most recent call last):\n",
            "  File \"train.py\", line 640, in <module>\n",
            "    main(opt)\n",
            "  File \"train.py\", line 529, in main\n",
            "    train(opt.hyp, opt, device, callbacks)\n",
            "  File \"train.py\", line 112, in train\n",
            "    data_dict = data_dict or check_dataset(data)  # check if None\n",
            "  File \"/content/yolov5/utils/general.py\", line 518, in check_dataset\n",
            "    data = yaml_load(data)  # dictionary\n",
            "  File \"/content/yolov5/utils/general.py\", line 603, in yaml_load\n",
            "    return yaml.safe_load(f)\n",
            "  File \"/usr/local/lib/python3.8/dist-packages/yaml/__init__.py\", line 125, in safe_load\n",
            "    return load(stream, SafeLoader)\n",
            "  File \"/usr/local/lib/python3.8/dist-packages/yaml/__init__.py\", line 81, in load\n",
            "    return loader.get_single_data()\n",
            "  File \"/usr/local/lib/python3.8/dist-packages/yaml/constructor.py\", line 49, in get_single_data\n",
            "    node = self.get_single_node()\n",
            "  File \"/usr/local/lib/python3.8/dist-packages/yaml/composer.py\", line 36, in get_single_node\n",
            "    document = self.compose_document()\n",
            "  File \"/usr/local/lib/python3.8/dist-packages/yaml/composer.py\", line 55, in compose_document\n",
            "    node = self.compose_node(None, None)\n",
            "  File \"/usr/local/lib/python3.8/dist-packages/yaml/composer.py\", line 84, in compose_node\n",
            "    node = self.compose_mapping_node(anchor)\n",
            "  File \"/usr/local/lib/python3.8/dist-packages/yaml/composer.py\", line 127, in compose_mapping_node\n",
            "    while not self.check_event(MappingEndEvent):\n",
            "  File \"/usr/local/lib/python3.8/dist-packages/yaml/parser.py\", line 98, in check_event\n",
            "    self.current_event = self.state()\n",
            "  File \"/usr/local/lib/python3.8/dist-packages/yaml/parser.py\", line 428, in parse_block_mapping_key\n",
            "    if self.check_token(KeyToken):\n",
            "  File \"/usr/local/lib/python3.8/dist-packages/yaml/scanner.py\", line 115, in check_token\n",
            "    while self.need_more_tokens():\n",
            "  File \"/usr/local/lib/python3.8/dist-packages/yaml/scanner.py\", line 152, in need_more_tokens\n",
            "    self.stale_possible_simple_keys()\n",
            "  File \"/usr/local/lib/python3.8/dist-packages/yaml/scanner.py\", line 291, in stale_possible_simple_keys\n",
            "    raise ScannerError(\"while scanning a simple key\", key.mark,\n",
            "yaml.scanner.ScannerError: while scanning a simple key\n",
            "  in \"/content/yolov5/data/Data_Crack.yaml\", line 5, column 1\n",
            "could not find expected ':'\n",
            "  in \"/content/yolov5/data/Data_Crack.yaml\", line 7, column 1\n"
          ]
        }
      ]
    }
  ]
}